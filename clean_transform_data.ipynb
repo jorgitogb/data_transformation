{
  "cells": [
    {
      "cell_type": "markdown",
      "metadata": {
        "id": "view-in-github",
        "colab_type": "text"
      },
      "source": [
        "<a href=\"https://colab.research.google.com/github/jorgitogb/jorgitogb.github.io/blob/main/clean_transform_data.ipynb\" target=\"_parent\"><img src=\"https://colab.research.google.com/assets/colab-badge.svg\" alt=\"Open In Colab\"/></a>"
      ]
    },
    {
      "cell_type": "markdown",
      "metadata": {
        "id": "QGNaYxJ8NQPo"
      },
      "source": [
        "# Pipeline information\n",
        "\n",
        "*   **linkedIn**: [linkedln](https://www.linkedin.com/posts/ugpm-cinvestav-zacatenco-1020b71b4_github-iaguilarorlowbmdinpmwmx-nf-activity-7128863722294415360-C8NO/?originalSubdomain=es)\n",
        "*   **paper**: [paper link](https://link.springer.com/article/10.1007/s11357-023-00977-1)\n",
        "*   **repo**: [github](https://github.com/Iaguilaror/low_BMD_in_PMWMX)\n",
        "\n",
        "\n"
      ]
    },
    {
      "cell_type": "code",
      "source": [
        "from google.colab import drive\n",
        "drive.mount('/content/drive')"
      ],
      "metadata": {
        "id": "W4xrhAfMSHw6",
        "colab": {
          "base_uri": "https://localhost:8080/"
        },
        "outputId": "00f670e6-f3fa-4dc2-eae4-6f84e30614e3"
      },
      "execution_count": 15,
      "outputs": [
        {
          "output_type": "stream",
          "name": "stdout",
          "text": [
            "Mounted at /content/drive\n"
          ]
        }
      ]
    },
    {
      "cell_type": "code",
      "execution_count": 73,
      "metadata": {
        "id": "TZuCmt3k07Dq"
      },
      "outputs": [],
      "source": [
        "import pandas as pd\n",
        "import re\n",
        "import os"
      ]
    },
    {
      "cell_type": "code",
      "source": [
        "# Variables\n",
        "url = '/content/drive/MyDrive/Colab Notebooks/data/cs/'\n",
        "output = '/content/drive/MyDrive/Colab Notebooks/data/cs/output/'\n",
        "conditions = ['MDA_MB231', 'HCC_1599', 'HCC_1937','MCF_12F']\n",
        "files_name = ['HCC_1599 Vs MDA_MB231.xlsx', 'HCC_1937 Vs MDA_MB231.xlsx', 'HCC_1937 Vs HCC_1599.xlsx']\n",
        "pattern = '.*UP'"
      ],
      "metadata": {
        "id": "ZJkliZESQTiL"
      },
      "execution_count": 79,
      "outputs": []
    },
    {
      "cell_type": "code",
      "execution_count": 77,
      "metadata": {
        "id": "eogFSwluC7bn"
      },
      "outputs": [],
      "source": [
        "# return the sheet name UP or DOWN from patern\n",
        "def sheet_name(url):\n",
        "  list_sheets = pd.ExcelFile(url).sheet_names\n",
        "  sheet = [i for i in list_sheets if re.match(pattern, i)]\n",
        "  return sheet[0]\n",
        "\n",
        "def fill_sample_sheet(dframe):\n",
        "  rep = rep_names(dframe)\n",
        "  rows = []\n",
        "  for c in rep:\n",
        "    for cond in conditions:\n",
        "      if cond in c:\n",
        "        rows.append({'muestra': c, 'conditions': cond.replace('_','')})\n",
        "  return rows\n",
        "\n",
        "# list replicas names\n",
        "def rep_names(dframe):\n",
        "  colums_name = dframe.columns.to_list()\n",
        "  replicas = colums_name[:1] + colums_name[13:16] + colums_name[21:24]\n",
        "  return replicas\n",
        "\n",
        "\n",
        "def read_excels(url, files_name):\n",
        "  sheet_list = []\n",
        "  for i in files_name:\n",
        "    df = pd.read_excel(url+i, sheet_name=sheet_name(url+i))\n",
        "    df = df.fillna(0)\n",
        "    df.to_excel(output + i.replace('_', '').replace('Vs', 'vs').replace(' ', '_'))\n",
        "    sheet_list = sheet_list + fill_sample_sheet(df)\n",
        "\n",
        "\n",
        "  df_sample_sheet = pd.DataFrame(sheet_list)\n",
        "  df_sample_sheet.to_csv(f'{output}sample_sheet.csv', index=False)\n"
      ]
    },
    {
      "cell_type": "code",
      "execution_count": 80,
      "metadata": {
        "id": "QVPMsKGsC9rM"
      },
      "outputs": [],
      "source": [
        "read_excels(url, files_name)"
      ]
    }
  ],
  "metadata": {
    "colab": {
      "provenance": [],
      "include_colab_link": true
    },
    "kernelspec": {
      "display_name": "Python 3",
      "name": "python3"
    },
    "language_info": {
      "codemirror_mode": {
        "name": "ipython",
        "version": 3
      },
      "file_extension": ".py",
      "mimetype": "text/x-python",
      "name": "python",
      "nbconvert_exporter": "python",
      "pygments_lexer": "ipython3",
      "version": "3.8.13"
    }
  },
  "nbformat": 4,
  "nbformat_minor": 0
}